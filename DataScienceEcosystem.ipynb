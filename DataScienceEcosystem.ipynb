{
 "cells": [
  {
   "cell_type": "markdown",
   "id": "a6871eab",
   "metadata": {},
   "source": [
    "# Data Science Tools & Ecosystem"
   ]
  },
  {
   "cell_type": "markdown",
   "id": "e87311eb",
   "metadata": {},
   "source": [
    "In this notebook, Data Science Tools and Ecosystem are explained"
   ]
  },
  {
   "cell_type": "markdown",
   "id": "eed92a4a",
   "metadata": {},
   "source": [
    "Some of the popular languages Data Scientists use:\n",
    "\n",
    "1. Python\n",
    "2. R\n",
    "3. SQL\n",
    "4. Java\n",
    "5. Julia"
   ]
  },
  {
   "cell_type": "markdown",
   "id": "7aa96976",
   "metadata": {},
   "source": [
    "Lists of Data Science Libraries:\n",
    "1. Pandas\n",
    "2. Numpy\n",
    "3. Matplotlib\n",
    "4. Seaborn\n",
    "5. Matplotlib\n",
    "6. Scikit learn"
   ]
  },
  {
   "cell_type": "markdown",
   "id": "13f37208",
   "metadata": {},
   "source": [
    "Popular Data Science Tools are:\n",
    "1. SAS\n",
    "2. Apache Hadoop\n",
    "3. TensorFLow"
   ]
  },
  {
   "cell_type": "markdown",
   "id": "db7dbcc5",
   "metadata": {},
   "source": [
    "Arithmetic Expressions Examples:\n",
    "1. Multiplication (*)\n",
    "2. Division (/)\n",
    "3. Addition (+)\n",
    "4. Subtraction (-)"
   ]
  },
  {
   "cell_type": "code",
   "execution_count": 25,
   "id": "f17df06c",
   "metadata": {},
   "outputs": [
    {
     "data": {
      "text/plain": [
       "322"
      ]
     },
     "execution_count": 25,
     "metadata": {},
     "output_type": "execute_result"
    }
   ],
   "source": [
    "# Codes for Multiplying and Adding Numbers\n",
    "(45*5) + 97"
   ]
  },
  {
   "cell_type": "code",
   "execution_count": null,
   "id": "1e84e8ab",
   "metadata": {},
   "outputs": [],
   "source": [
    "minutes = float(input('Enter minutes'))\n",
    "print(f'Hours = {minutes/60}')"
   ]
  },
  {
   "cell_type": "markdown",
   "id": "5b04be29",
   "metadata": {},
   "source": []
  },
  {
   "cell_type": "code",
   "execution_count": null,
   "id": "f7b173b2",
   "metadata": {},
   "outputs": [],
   "source": []
  },
  {
   "cell_type": "markdown",
   "id": "6df5780b",
   "metadata": {},
   "source": [
    "_Objectives_\n",
    "\n",
    "* List popular languages for Data Science\n",
    "* List popular libraries for Data Science\n",
    "* List f well known Data Science Tools\n",
    "* How to provide Comments in cells"
   ]
  },
  {
   "cell_type": "markdown",
   "id": "c718a983",
   "metadata": {},
   "source": [
    "# Author\n",
    "\n"
   ]
  },
  {
   "cell_type": "markdown",
   "id": "93429d80",
   "metadata": {},
   "source": [
    "Pratik Shukla"
   ]
  },
  {
   "cell_type": "code",
   "execution_count": null,
   "id": "72368cc2",
   "metadata": {},
   "outputs": [],
   "source": []
  }
 ],
 "metadata": {
  "kernelspec": {
   "display_name": "Python 3 (ipykernel)",
   "language": "python",
   "name": "python3"
  },
  "language_info": {
   "codemirror_mode": {
    "name": "ipython",
    "version": 3
   },
   "file_extension": ".py",
   "mimetype": "text/x-python",
   "name": "python",
   "nbconvert_exporter": "python",
   "pygments_lexer": "ipython3",
   "version": "3.10.9"
  }
 },
 "nbformat": 4,
 "nbformat_minor": 5
}
